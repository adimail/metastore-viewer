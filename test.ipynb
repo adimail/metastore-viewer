{
 "cells": [
  {
   "cell_type": "code",
   "execution_count": 1,
   "id": "af28bb92-af19-4b54-a391-e78e2e7cd1e1",
   "metadata": {},
   "outputs": [],
   "source": [
    "import pyarrow.parquet as pq"
   ]
  },
  {
   "cell_type": "code",
   "execution_count": 4,
   "id": "485f756a-c342-45d5-89f1-4aff7939cbd3",
   "metadata": {},
   "outputs": [],
   "source": [
    "table = pq.read_table(\"starwars/parquet_files/characters.parquet\")"
   ]
  },
  {
   "cell_type": "code",
   "execution_count": 5,
   "id": "b9ef7785-0412-4c0e-94e7-f8d78fdf8139",
   "metadata": {},
   "outputs": [],
   "source": [
    "df = table.to_pandas()"
   ]
  },
  {
   "cell_type": "code",
   "execution_count": 7,
   "id": "d144c189-710a-4c4b-bec4-755d66bcdbf4",
   "metadata": {},
   "outputs": [
    {
     "data": {
      "text/html": [
       "<div>\n",
       "<style scoped>\n",
       "    .dataframe tbody tr th:only-of-type {\n",
       "        vertical-align: middle;\n",
       "    }\n",
       "\n",
       "    .dataframe tbody tr th {\n",
       "        vertical-align: top;\n",
       "    }\n",
       "\n",
       "    .dataframe thead th {\n",
       "        text-align: right;\n",
       "    }\n",
       "</style>\n",
       "<table border=\"1\" class=\"dataframe\">\n",
       "  <thead>\n",
       "    <tr style=\"text-align: right;\">\n",
       "      <th></th>\n",
       "      <th>id</th>\n",
       "      <th>name</th>\n",
       "      <th>species</th>\n",
       "      <th>gender</th>\n",
       "      <th>height</th>\n",
       "      <th>weight</th>\n",
       "      <th>hair_color</th>\n",
       "      <th>eye_color</th>\n",
       "      <th>skin_color</th>\n",
       "      <th>year_born</th>\n",
       "      <th>homeworld</th>\n",
       "      <th>year_died</th>\n",
       "      <th>description</th>\n",
       "    </tr>\n",
       "  </thead>\n",
       "  <tbody>\n",
       "    <tr>\n",
       "      <th>0</th>\n",
       "      <td>1</td>\n",
       "      <td>Luke Skywalker</td>\n",
       "      <td>Human</td>\n",
       "      <td>Male</td>\n",
       "      <td>1.72</td>\n",
       "      <td>77.0</td>\n",
       "      <td>Blond</td>\n",
       "      <td>Blue</td>\n",
       "      <td>Light</td>\n",
       "      <td>19.0</td>\n",
       "      <td>Tatooine</td>\n",
       "      <td>34.0</td>\n",
       "      <td>The main protagonist of the original trilogy.</td>\n",
       "    </tr>\n",
       "    <tr>\n",
       "      <th>1</th>\n",
       "      <td>2</td>\n",
       "      <td>Leia Organa</td>\n",
       "      <td>Human</td>\n",
       "      <td>Female</td>\n",
       "      <td>1.50</td>\n",
       "      <td>49.0</td>\n",
       "      <td>Brown</td>\n",
       "      <td>Brown</td>\n",
       "      <td>Light</td>\n",
       "      <td>19.0</td>\n",
       "      <td>Alderaan</td>\n",
       "      <td>35.0</td>\n",
       "      <td>A leader in the Rebel Alliance and twin sister...</td>\n",
       "    </tr>\n",
       "    <tr>\n",
       "      <th>2</th>\n",
       "      <td>3</td>\n",
       "      <td>Darth Vader</td>\n",
       "      <td>Human</td>\n",
       "      <td>Male</td>\n",
       "      <td>2.02</td>\n",
       "      <td>136.0</td>\n",
       "      <td>None</td>\n",
       "      <td>Yellow</td>\n",
       "      <td>Pale</td>\n",
       "      <td>41.0</td>\n",
       "      <td>Tatooine</td>\n",
       "      <td>4.0</td>\n",
       "      <td>The Sith Lord formerly known as Anakin Skywalker.</td>\n",
       "    </tr>\n",
       "    <tr>\n",
       "      <th>3</th>\n",
       "      <td>4</td>\n",
       "      <td>Yoda</td>\n",
       "      <td>Yoda's species</td>\n",
       "      <td>Male</td>\n",
       "      <td>0.66</td>\n",
       "      <td>17.0</td>\n",
       "      <td>White</td>\n",
       "      <td>Brown</td>\n",
       "      <td>Green</td>\n",
       "      <td>896.0</td>\n",
       "      <td>Unknown</td>\n",
       "      <td>4.0</td>\n",
       "      <td>A wise and powerful Jedi Master.</td>\n",
       "    </tr>\n",
       "    <tr>\n",
       "      <th>4</th>\n",
       "      <td>5</td>\n",
       "      <td>Han Solo</td>\n",
       "      <td>Human</td>\n",
       "      <td>Male</td>\n",
       "      <td>1.80</td>\n",
       "      <td>80.0</td>\n",
       "      <td>Brown</td>\n",
       "      <td>Hazel</td>\n",
       "      <td>Light</td>\n",
       "      <td>29.0</td>\n",
       "      <td>Corellia</td>\n",
       "      <td>34.0</td>\n",
       "      <td>A smuggler turned hero in the Rebel Alliance.</td>\n",
       "    </tr>\n",
       "  </tbody>\n",
       "</table>\n",
       "</div>"
      ],
      "text/plain": [
       "   id            name         species  gender  height  weight hair_color  \\\n",
       "0   1  Luke Skywalker           Human    Male    1.72    77.0      Blond   \n",
       "1   2     Leia Organa           Human  Female    1.50    49.0      Brown   \n",
       "2   3     Darth Vader           Human    Male    2.02   136.0       None   \n",
       "3   4            Yoda  Yoda's species    Male    0.66    17.0      White   \n",
       "4   5        Han Solo           Human    Male    1.80    80.0      Brown   \n",
       "\n",
       "  eye_color skin_color  year_born homeworld  year_died  \\\n",
       "0      Blue      Light       19.0  Tatooine       34.0   \n",
       "1     Brown      Light       19.0  Alderaan       35.0   \n",
       "2    Yellow       Pale       41.0  Tatooine        4.0   \n",
       "3     Brown      Green      896.0   Unknown        4.0   \n",
       "4     Hazel      Light       29.0  Corellia       34.0   \n",
       "\n",
       "                                         description  \n",
       "0      The main protagonist of the original trilogy.  \n",
       "1  A leader in the Rebel Alliance and twin sister...  \n",
       "2  The Sith Lord formerly known as Anakin Skywalker.  \n",
       "3                   A wise and powerful Jedi Master.  \n",
       "4      A smuggler turned hero in the Rebel Alliance.  "
      ]
     },
     "execution_count": 7,
     "metadata": {},
     "output_type": "execute_result"
    }
   ],
   "source": [
    "df.head()"
   ]
  },
  {
   "cell_type": "code",
   "execution_count": 8,
   "id": "7b0044e0-b3ec-4ef0-81ac-93226de6eea0",
   "metadata": {},
   "outputs": [
    {
     "data": {
      "text/plain": [
       "300.0"
      ]
     },
     "execution_count": 8,
     "metadata": {},
     "output_type": "execute_result"
    }
   ],
   "source": [
    "1200 / 4"
   ]
  },
  {
   "cell_type": "code",
   "execution_count": 9,
   "id": "6c3acb52-9718-4eb5-a437-a67686089a91",
   "metadata": {},
   "outputs": [
    {
     "data": {
      "text/plain": [
       "0.1"
      ]
     },
     "execution_count": 9,
     "metadata": {},
     "output_type": "execute_result"
    }
   ],
   "source": [
    "30/300"
   ]
  }
 ],
 "metadata": {
  "kernelspec": {
   "display_name": "Python 3 (ipykernel)",
   "language": "python",
   "name": "python3"
  },
  "language_info": {
   "codemirror_mode": {
    "name": "ipython",
    "version": 3
   },
   "file_extension": ".py",
   "mimetype": "text/x-python",
   "name": "python",
   "nbconvert_exporter": "python",
   "pygments_lexer": "ipython3",
   "version": "3.9.6"
  }
 },
 "nbformat": 4,
 "nbformat_minor": 5
}
